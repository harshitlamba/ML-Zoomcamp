{
 "cells": [
  {
   "cell_type": "code",
   "execution_count": 2,
   "id": "bd9d722d-f454-4518-9869-5ea35f1c2ab0",
   "metadata": {},
   "outputs": [],
   "source": [
    "import numpy as np"
   ]
  },
  {
   "cell_type": "markdown",
   "id": "d0c0fe5e",
   "metadata": {},
   "source": [
    "Creating Arrays - One Dimensional"
   ]
  },
  {
   "cell_type": "code",
   "execution_count": 5,
   "id": "8b85f17a",
   "metadata": {},
   "outputs": [
    {
     "name": "stdout",
     "output_type": "stream",
     "text": [
      "[0. 0. 0. 0. 0.]\n",
      "[1. 1. 1. 1. 1.]\n",
      "[2.5 2.5 2.5 2.5 2.5]\n",
      "[0 1 2 3 4 5 6 7 8 9]\n",
      "[2 4 6 8]\n",
      "[ 2.   2.8  3.6  4.4  5.2  6.   6.8  7.6  8.4  9.2 10. ]\n",
      "[1 2 4 6 7 8]\n",
      "4\n",
      "[6 7 8]\n",
      "[4 6 7]\n",
      "[4 7]\n"
     ]
    }
   ],
   "source": [
    "print(np.zeros(5))\n",
    "print(np.ones(5))\n",
    "# Create an array of a specified shape with a specific value - np.full(shape, value)\n",
    "print(np.full(5, 2.5))\n",
    "# Create a range of evely spaced values - np.arange(size), np.arange(start, stop, step)\n",
    "print(np.arange(10))\n",
    "print(np.arange(2,10,2)) # Result would be 2,4,6,8. The last jump would be on 10, which will get ignored\n",
    "# Another way to create an array with evenly spaced values - np.linspace(start, stop, number of spaces - 1)\n",
    "print(np.linspace(2,10,11))\n",
    "# Create an array from a list\n",
    "arr = np.array([1,2,4,6,7,8])\n",
    "print(arr)\n",
    "\n",
    "# Access the element and change\n",
    "print(arr[2])\n",
    "print(arr[3:])\n",
    "print(arr[2:5]) # Elements at indices 2, 3, 4\n",
    "print(arr[2::2]) # Elements at indices 2 and 4 - the last jump would be on the last position which will get ignored"
   ]
  },
  {
   "cell_type": "markdown",
   "id": "9f0c019a",
   "metadata": {},
   "source": [
    "Create Array - Multi-Dimensional"
   ]
  },
  {
   "cell_type": "code",
   "execution_count": 11,
   "id": "13f864fc",
   "metadata": {},
   "outputs": [
    {
     "name": "stdout",
     "output_type": "stream",
     "text": [
      "[[1. 1.]\n",
      " [1. 1.]\n",
      " [1. 1.]\n",
      " [1. 1.]\n",
      " [1. 1.]]\n",
      "[[[0. 0. 0. 0.]\n",
      "  [0. 0. 0. 0.]\n",
      "  [0. 0. 0. 0.]]\n",
      "\n",
      " [[0. 0. 0. 0.]\n",
      "  [0. 0. 0. 0.]\n",
      "  [0. 0. 0. 0.]]]\n",
      "[[1 2 3]\n",
      " [4 5 6]\n",
      " [7 8 9]]\n",
      "[30  6  9]\n",
      "[ 1  2 30]\n",
      "[[  1   1  30]\n",
      " [  4  10   6]\n",
      " [  7 100   9]]\n"
     ]
    }
   ],
   "source": [
    "print(np.ones((5,2))) # A matrix of 5x2 shape\n",
    "print(np.zeros((2,3,4))) # Two 3x4 matrices\n",
    "# Create an array using a list (or list of lists and so on)\n",
    "arr = np.array([\n",
    "        [1,2,3],\n",
    "        [4,5,6],\n",
    "        [7,8,9]\n",
    "    ])\n",
    "print(arr)\n",
    "\n",
    "# Access the element and change\n",
    "arr[0,2] = 30\n",
    "print(arr[:,2]) # Access the second-indexed column\n",
    "print(arr[0,:]) # Access the zero-indexed row\n",
    "arr[:,1] = [1, 10, 100] # Change the values of first-indexed column\n",
    "print(arr)"
   ]
  },
  {
   "cell_type": "markdown",
   "id": "40bc806b",
   "metadata": {},
   "source": [
    "Randomly Generated Arrays"
   ]
  },
  {
   "cell_type": "code",
   "execution_count": 16,
   "id": "c8112a4e",
   "metadata": {},
   "outputs": [
    {
     "name": "stdout",
     "output_type": "stream",
     "text": [
      "[[0.65358959 0.11500694]\n",
      " [0.95028286 0.4821914 ]\n",
      " [0.87247454 0.21233268]\n",
      " [0.04070962 0.39719446]\n",
      " [0.2331322  0.84174072]]\n",
      "[[ 0.66728131 -0.80611561]\n",
      " [-1.19606983 -0.40596016]\n",
      " [-0.18237734  0.10319289]\n",
      " [-0.13842199  0.70569237]\n",
      " [ 1.27179528 -0.98674733]]\n",
      "[[[33 53]\n",
      "  [51 22]\n",
      "  [27  8]\n",
      "  [17 88]\n",
      "  [93 44]]\n",
      "\n",
      " [[60  1]\n",
      "  [32 31]\n",
      "  [19  2]\n",
      "  [12 47]\n",
      "  [28 48]]]\n"
     ]
    }
   ],
   "source": [
    "# Set the seed of the pseudo-random number generator to make results reproducible\n",
    "np.random.seed(1000)\n",
    "# Generate numbers from a uniform distribution\n",
    "print(np.random.rand(5,2)) # Random array of shape 5x2\n",
    "# Generate numbers from a normal distribution\n",
    "print(np.random.randn(5,2))\n",
    "# Generate an array of random integers\n",
    "print(np.random.randint(low=1,high=100,size=(2,5,2))) # High is excluded"
   ]
  },
  {
   "cell_type": "markdown",
   "id": "bd935155",
   "metadata": {},
   "source": [
    "Element-wise Operations"
   ]
  },
  {
   "cell_type": "code",
   "execution_count": 32,
   "id": "213e0e34",
   "metadata": {},
   "outputs": [
    {
     "name": "stdout",
     "output_type": "stream",
     "text": [
      "[1 2 3 4 5]\n",
      "[10 12 18 28 42]\n",
      "[21 24 31 42 57]\n",
      "[ 10  24  54 112 210]\n",
      "[False False  True  True  True]\n",
      "[False  True  True  True  True]\n",
      "[2 3 4 5]\n"
     ]
    }
   ],
   "source": [
    "# Perform one or more element-wise add/sub/mul/div/mod/exp/log to each element of an array\n",
    "arr1 = 1 + np.arange(5)\n",
    "print(arr1)\n",
    "arr2 = 10 + 2*np.arange(5)**2\n",
    "print(arr2)\n",
    "# Element-wise operations between two arrays\n",
    "print((arr1 + arr2) + 10); print(arr1 * arr2)\n",
    "print(arr1 > 2) # Compare each element with 2\n",
    "print(arr1 > arr2/10) # Element-wise comparison of the array values\n",
    "print(arr1[arr1 > arr2/10]) # Output the values at TRUE indices\n"
   ]
  },
  {
   "cell_type": "markdown",
   "id": "7d3926b8",
   "metadata": {},
   "source": [
    "Summarizing Operations"
   ]
  },
  {
   "cell_type": "code",
   "execution_count": 38,
   "id": "e38db62b",
   "metadata": {},
   "outputs": [
    {
     "name": "stdout",
     "output_type": "stream",
     "text": [
      "[1 2 3 4 5]\n",
      "1\n",
      "5\n",
      "15\n",
      "3.0\n",
      "1.4142135623730951\n",
      "[[[18 24 23 46 38]\n",
      "  [38 24 46 25 37]]\n",
      "\n",
      " [[12 11 22 40 33]\n",
      "  [49 35 38 42 43]]]\n",
      "11\n",
      "49\n",
      "644\n",
      "32.2\n",
      "11.187493016757596\n"
     ]
    }
   ],
   "source": [
    "# One dimensional array\n",
    "print(arr1)\n",
    "print(arr1.min()); print(arr1.max()); print(arr1.sum()); print(arr1.mean()); print(arr1.std())\n",
    "# Multi dimensional array\n",
    "np.random.seed(2000)\n",
    "arr3 = np.random.randint(low=10,high=50,size=(2,2,5))\n",
    "print(arr3)\n",
    "print(arr3.min()); print(arr3.max()); print(arr3.sum()); print(arr3.mean()); print(arr3.std())"
   ]
  }
 ],
 "metadata": {
  "kernelspec": {
   "display_name": "Python 3 (ipykernel)",
   "language": "python",
   "name": "python3"
  }
 },
 "nbformat": 4,
 "nbformat_minor": 5
}
