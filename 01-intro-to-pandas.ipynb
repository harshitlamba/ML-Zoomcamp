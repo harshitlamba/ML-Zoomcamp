{
 "cells": [
  {
   "cell_type": "code",
   "execution_count": 1,
   "metadata": {},
   "outputs": [],
   "source": [
    "import pandas as pd\n",
    "import string\n",
    "\n",
    "pd.set_option('display.max_columns', None) # Number of columns to display- if max_columns is exceeded, switch to truncate view; 'None' means unlimited\n",
    "# pd.set_option('display.max_rows, 2') # Number of rows to display- if max_rows is exceeded, switch to truncate view \n",
    "pd.set_option('display.expand_frame_repr', False) # Whether to print out the full DataFrame repr for wide DataFrames across multiple lines; max_columns is still respected"
   ]
  },
  {
   "cell_type": "code",
   "execution_count": 2,
   "metadata": {},
   "outputs": [],
   "source": [
    "# Reset the options to default\n",
    "# pd.reset_option('display.max_columns')\n",
    "# pd.reset_option('display.max_rows')\n",
    "# pd.reset_option('display.expand_frame_repr')"
   ]
  },
  {
   "cell_type": "code",
   "execution_count": 3,
   "metadata": {},
   "outputs": [
    {
     "name": "stdout",
     "output_type": "stream",
     "text": [
      "      Make     Model  Year  Engine HP  Engine Cylinders Transmission Type Vehicle_Style   MSRP\n",
      "0   Nissan    Stanza  1991      138.0                 4            MANUAL         sedan   2000\n",
      "1  Hyundai    Sonata  2017        NaN                 4         AUTOMATIC         Sedan  27150\n",
      "2    Lotus     Elise  2010      218.0                 4            MANUAL   convertible  54990\n",
      "3      GMC    Acadia  2017      194.0                 4         AUTOMATIC       4dr SUV  34450\n",
      "4   Nissan  Frontier  2017      261.0                 6            MANUAL        Pickup  32340\n"
     ]
    }
   ],
   "source": [
    "# Creating a dataframe - Each list is an observation; we can also use a list of dictionaries to insert the rows in a dataframe, where each dictionary would be one observations and the keys would be the \n",
    "# column names - Example, data = [{'Make':'Nissan','Model':'Stanza','Year':1991,....,'MSRP':'2000'}]\n",
    "data = [\n",
    "    ['Nissan', 'Stanza', 1991, 138, 4, 'MANUAL', 'sedan', 2000],\n",
    "    ['Hyundai', 'Sonata', 2017, None, 4, 'AUTOMATIC', 'Sedan', 27150],\n",
    "    ['Lotus', 'Elise', 2010, 218, 4, 'MANUAL', 'convertible', 54990],\n",
    "    ['GMC', 'Acadia',  2017, 194, 4, 'AUTOMATIC', '4dr SUV', 34450],\n",
    "    ['Nissan', 'Frontier', 2017, 261, 6, 'MANUAL', 'Pickup', 32340],\n",
    "]\n",
    " \n",
    "columns = [\n",
    "    'Make', 'Model', 'Year', 'Engine HP', 'Engine Cylinders',\n",
    "    'Transmission Type', 'Vehicle_Style', 'MSRP'\n",
    "]\n",
    " \n",
    "df = pd.DataFrame(data, columns=columns)\n",
    "print(df.head())"
   ]
  },
  {
   "cell_type": "markdown",
   "metadata": {},
   "source": [
    "Series - each column of a dataframe is of the type 'Series'"
   ]
  },
  {
   "cell_type": "code",
   "execution_count": 4,
   "metadata": {},
   "outputs": [
    {
     "name": "stdout",
     "output_type": "stream",
     "text": [
      "0    138.0\n",
      "1      NaN\n",
      "2    218.0\n",
      "3    194.0\n",
      "4    261.0\n",
      "Name: Engine HP, dtype: float64\n",
      "      Make  Year  Engine HP\n",
      "0   Nissan  1991      138.0\n",
      "1  Hyundai  2017        NaN\n",
      "2    Lotus  2010      218.0\n",
      "3      GMC  2017      194.0\n",
      "4   Nissan  2017      261.0\n",
      "      Make     Model  Year  Engine HP  Engine Cylinders Transmission Type Vehicle_Style   MSRP  id\n",
      "0   Nissan    Stanza  1991      138.0                 4            MANUAL         sedan   2000   1\n",
      "1  Hyundai    Sonata  2017        NaN                 4         AUTOMATIC         Sedan  27150   2\n",
      "2    Lotus     Elise  2010      218.0                 4            MANUAL   convertible  54990   3\n",
      "3      GMC    Acadia  2017      194.0                 4         AUTOMATIC       4dr SUV  34450   4\n",
      "4   Nissan  Frontier  2017      261.0                 6            MANUAL        Pickup  32340   5\n",
      "      Make     Model  Year  Engine HP  Engine Cylinders Transmission Type Vehicle_Style   MSRP\n",
      "0   Nissan    Stanza  1991      138.0                 4            MANUAL         sedan   2000\n",
      "1  Hyundai    Sonata  2017        NaN                 4         AUTOMATIC         Sedan  27150\n",
      "2    Lotus     Elise  2010      218.0                 4            MANUAL   convertible  54990\n",
      "3      GMC    Acadia  2017      194.0                 4         AUTOMATIC       4dr SUV  34450\n",
      "4   Nissan  Frontier  2017      261.0                 6            MANUAL        Pickup  32340\n"
     ]
    }
   ],
   "source": [
    "# To access the column whose column name has a <space>, we cannot use `` like we do in R\n",
    "# df.`Engine HP` # Throws an error\n",
    "print(df['Engine HP'].head()) # The 'Name' in the output is tha name of the series\n",
    "# Access multiple columns\n",
    "print(df[['Make','Year','Engine HP']].head())\n",
    "# Create a new column\n",
    "df['id'] = df.index + 1\n",
    "print(df.head())\n",
    "# To delete a column\n",
    "del df['id']\n",
    "# Another way is to drop a column - If the column isn't present and we still use drop(), we can set the errors = 'ignore'\n",
    "df = df.drop('id', axis=1, errors='ignore')\n",
    "print(df.head())"
   ]
  },
  {
   "cell_type": "markdown",
   "metadata": {},
   "source": [
    "Accessing Elements of a Dataframe - loc and iloc"
   ]
  },
  {
   "cell_type": "code",
   "execution_count": 5,
   "metadata": {},
   "outputs": [
    {
     "name": "stdout",
     "output_type": "stream",
     "text": [
      "Make                   Hyundai\n",
      "Model                   Sonata\n",
      "Year                      2017\n",
      "Engine HP                  NaN\n",
      "Engine Cylinders             4\n",
      "Transmission Type    AUTOMATIC\n",
      "Vehicle_Style            Sedan\n",
      "MSRP                     27150\n",
      "Name: 1, dtype: object\n",
      "      Make     Model  Year  Engine HP  Engine Cylinders Transmission Type Vehicle_Style   MSRP\n",
      "a   Nissan    Stanza  1991      138.0                 4            MANUAL         sedan   2000\n",
      "b  Hyundai    Sonata  2017        NaN                 4         AUTOMATIC         Sedan  27150\n",
      "c    Lotus     Elise  2010      218.0                 4            MANUAL   convertible  54990\n",
      "d      GMC    Acadia  2017      194.0                 4         AUTOMATIC       4dr SUV  34450\n",
      "e   Nissan  Frontier  2017      261.0                 6            MANUAL        Pickup  32340\n",
      "      Make   Model  Year  Engine HP  Engine Cylinders Transmission Type Vehicle_Style   MSRP\n",
      "a   Nissan  Stanza  1991      138.0                 4            MANUAL         sedan   2000\n",
      "b  Hyundai  Sonata  2017        NaN                 4         AUTOMATIC         Sedan  27150\n",
      "      Make     Model\n",
      "a   Nissan    Stanza\n",
      "b  Hyundai    Sonata\n",
      "c    Lotus     Elise\n",
      "d      GMC    Acadia\n",
      "e   Nissan  Frontier\n",
      "      Make     Model  Year  Engine HP  Engine Cylinders Transmission Type Vehicle_Style   MSRP\n",
      "0   Nissan    Stanza  1991      138.0                 4            MANUAL         sedan   2000\n",
      "1  Hyundai    Sonata  2017        NaN                 4         AUTOMATIC         Sedan  27150\n",
      "2    Lotus     Elise  2010      218.0                 4            MANUAL   convertible  54990\n",
      "3      GMC    Acadia  2017      194.0                 4         AUTOMATIC       4dr SUV  34450\n",
      "4   Nissan  Frontier  2017      261.0                 6            MANUAL        Pickup  32340\n"
     ]
    },
    {
     "data": {
      "text/html": [
       "<div>\n",
       "<style scoped>\n",
       "    .dataframe tbody tr th:only-of-type {\n",
       "        vertical-align: middle;\n",
       "    }\n",
       "\n",
       "    .dataframe tbody tr th {\n",
       "        vertical-align: top;\n",
       "    }\n",
       "\n",
       "    .dataframe thead th {\n",
       "        text-align: right;\n",
       "    }\n",
       "</style>\n",
       "<table border=\"1\" class=\"dataframe\">\n",
       "  <thead>\n",
       "    <tr style=\"text-align: right;\">\n",
       "      <th></th>\n",
       "      <th>Year</th>\n",
       "      <th>Engine HP</th>\n",
       "    </tr>\n",
       "  </thead>\n",
       "  <tbody>\n",
       "    <tr>\n",
       "      <th>0</th>\n",
       "      <td>1991</td>\n",
       "      <td>138.0</td>\n",
       "    </tr>\n",
       "    <tr>\n",
       "      <th>3</th>\n",
       "      <td>2017</td>\n",
       "      <td>194.0</td>\n",
       "    </tr>\n",
       "  </tbody>\n",
       "</table>\n",
       "</div>"
      ],
      "text/plain": [
       "   Year  Engine HP\n",
       "0  1991      138.0\n",
       "3  2017      194.0"
      ]
     },
     "execution_count": 5,
     "metadata": {},
     "output_type": "execute_result"
    }
   ],
   "source": [
    "# loc - accessing the elements by names\n",
    "print(df.loc[1]) # Access by index (name, not number)\n",
    "df.index = list(string.ascii_lowercase)[:5] # string.ascii_lowercase gives a string of lower case alphabets from a-z\n",
    "print(df.head())\n",
    "print(df.loc[['a','b']]) # by default if you use .loc without :, the indices would be searched\n",
    "print(df.loc[:,['Make','Model']])\n",
    "df.reset_index(drop = True, inplace = True) # To reset the index to 0..n range; if we don't set drop = True\n",
    "print(df.head())\n",
    "\n",
    "# iloc - accessing elements by index number\n",
    "df.iloc[[0,3],list(range(2,4))] # we can't give range by ':' like in R"
   ]
  },
  {
   "cell_type": "markdown",
   "metadata": {},
   "source": [
    "Element-wise operations are similar to ones in numpy array"
   ]
  },
  {
   "cell_type": "code",
   "execution_count": 6,
   "metadata": {},
   "outputs": [
    {
     "name": "stdout",
     "output_type": "stream",
     "text": [
      "     Make     Model  Year  Engine HP  Engine Cylinders Transmission Type Vehicle_Style   MSRP\n",
      "3     GMC    Acadia  2017      194.0                 4         AUTOMATIC       4dr SUV  34450\n",
      "4  Nissan  Frontier  2017      261.0                 6            MANUAL        Pickup  32340\n"
     ]
    }
   ],
   "source": [
    "# Access observations using logical operations\n",
    "print(df[(~df['Engine HP'].isna()) & (df['Year'] > 2010)])"
   ]
  },
  {
   "cell_type": "markdown",
   "metadata": {},
   "source": [
    "String Operations"
   ]
  },
  {
   "cell_type": "code",
   "execution_count": 7,
   "metadata": {},
   "outputs": [
    {
     "name": "stdout",
     "output_type": "stream",
     "text": [
      "0          sedan\n",
      "1          sedan\n",
      "2    convertible\n",
      "3        4dr suv\n",
      "4         pickup\n",
      "Name: Vehicle_Style, dtype: object\n",
      "0          sedan\n",
      "1          Sedan\n",
      "2    convertible\n",
      "3        4dr_SUV\n",
      "4         Pickup\n",
      "Name: Vehicle_Style, dtype: object\n",
      "0           Taxi\n",
      "1           Taxi\n",
      "2    convertible\n",
      "3        4dr_SUV\n",
      "4         Pickup\n",
      "Name: Vehicle_Style, dtype: object\n",
      "0           taxi\n",
      "1           taxi\n",
      "2    convertible\n",
      "3        4dr_suv\n",
      "4         pickup\n",
      "Name: Vehicle_Style, dtype: object\n"
     ]
    }
   ],
   "source": [
    "# Change to lower case\n",
    "print(df['Vehicle_Style'].str.lower())\n",
    "# Replace a pattern with another value\n",
    "print(df['Vehicle_Style'].replace(to_replace=r' ',value='_',regex=True))\n",
    "# Replace multiple patterns with other values\n",
    "print(df['Vehicle_Style'].replace(regex={r' ':'_',r'[Ss]edan':'Taxi'}))\n",
    "# Chaining of methods\n",
    "print(df['Vehicle_Style'].replace(regex={r' ':'_',r'[Ss]edan':'Taxi'}).str.lower())"
   ]
  },
  {
   "cell_type": "markdown",
   "metadata": {},
   "source": [
    "Summarizing Operations"
   ]
  },
  {
   "cell_type": "code",
   "execution_count": 8,
   "metadata": {},
   "outputs": [
    {
     "name": "stdout",
     "output_type": "stream",
     "text": [
      "2000\n",
      "32340.0\n",
      "count        5.00\n",
      "mean     30186.00\n",
      "std      18985.04\n",
      "min       2000.00\n",
      "25%      27150.00\n",
      "50%      32340.00\n",
      "75%      34450.00\n",
      "max      54990.00\n",
      "Name: MSRP, dtype: float64\n",
      "          Make   Model Transmission Type Vehicle_Style\n",
      "count        5       5                 5             5\n",
      "unique       4       5                 2             5\n",
      "top     Nissan  Stanza            MANUAL         sedan\n",
      "freq         2       1                 3             1\n",
      "['Nissan' 'Hyundai' 'Lotus' 'GMC']\n"
     ]
    }
   ],
   "source": [
    "# Min, max, mean, median, std, var\n",
    "print(df.MSRP.min()); print(df.MSRP.median())\n",
    "# Get summary with rounded values\n",
    "print(df.MSRP.describe().round(2)) # show summary of numerical features by default\n",
    "print(df.describe(include=['O'])) # show summary of categorical variables\n",
    "# Get unique values\n",
    "print(df.Make.unique()) # For number of unique values, use nunique(); df.nunique() - unique values for each column"
   ]
  },
  {
   "cell_type": "markdown",
   "metadata": {},
   "source": [
    "Missing Values"
   ]
  },
  {
   "cell_type": "code",
   "execution_count": 9,
   "metadata": {},
   "outputs": [
    {
     "name": "stdout",
     "output_type": "stream",
     "text": [
      "Make                 0\n",
      "Model                0\n",
      "Year                 0\n",
      "Engine HP            1\n",
      "Engine Cylinders     0\n",
      "Transmission Type    0\n",
      "Vehicle_Style        0\n",
      "MSRP                 0\n",
      "dtype: int64\n",
      "0    False\n",
      "1     True\n",
      "2    False\n",
      "3    False\n",
      "4    False\n",
      "dtype: bool\n"
     ]
    }
   ],
   "source": [
    "# Column-wise check the number of null values\n",
    "print(df.isnull().sum())\n",
    "# Rows which contain at least one null value\n",
    "print(df.isnull().any(axis=1)) # axis = 1 for rows; by default its 0 for columns"
   ]
  },
  {
   "cell_type": "markdown",
   "metadata": {},
   "source": [
    "Grouping By"
   ]
  },
  {
   "cell_type": "code",
   "execution_count": 19,
   "metadata": {},
   "outputs": [
    {
     "name": "stdout",
     "output_type": "stream",
     "text": [
      "Transmission Type\n",
      "AUTOMATIC    30800.000000\n",
      "MANUAL       29776.666667\n",
      "Name: MSRP, dtype: float64\n",
      "                           MSRP        Vehicle_Style\n",
      "                           mean    max         count\n",
      "Transmission Type                                   \n",
      "AUTOMATIC          30800.000000  34450             2\n",
      "MANUAL             29776.666667  54990             3\n",
      "                           MSRP        Vehicle_Style\n",
      "                           mean    max         count\n",
      "Year Transmission Type                              \n",
      "1991 MANUAL              2000.0   2000             1\n",
      "2010 MANUAL             54990.0  54990             1\n",
      "2017 AUTOMATIC          30800.0  34450             2\n",
      "     MANUAL             32340.0  32340             1\n"
     ]
    },
    {
     "data": {
      "text/html": [
       "<div>\n",
       "<style scoped>\n",
       "    .dataframe tbody tr th:only-of-type {\n",
       "        vertical-align: middle;\n",
       "    }\n",
       "\n",
       "    .dataframe tbody tr th {\n",
       "        vertical-align: top;\n",
       "    }\n",
       "\n",
       "    .dataframe thead tr th {\n",
       "        text-align: left;\n",
       "    }\n",
       "</style>\n",
       "<table border=\"1\" class=\"dataframe\">\n",
       "  <thead>\n",
       "    <tr>\n",
       "      <th></th>\n",
       "      <th>Year</th>\n",
       "      <th>Transmission Type</th>\n",
       "      <th colspan=\"2\" halign=\"left\">MSRP</th>\n",
       "      <th>Vehicle_Style</th>\n",
       "    </tr>\n",
       "    <tr>\n",
       "      <th></th>\n",
       "      <th></th>\n",
       "      <th></th>\n",
       "      <th>mean</th>\n",
       "      <th>max</th>\n",
       "      <th>count</th>\n",
       "    </tr>\n",
       "  </thead>\n",
       "  <tbody>\n",
       "    <tr>\n",
       "      <th>0</th>\n",
       "      <td>1991</td>\n",
       "      <td>MANUAL</td>\n",
       "      <td>2000.0</td>\n",
       "      <td>2000</td>\n",
       "      <td>1</td>\n",
       "    </tr>\n",
       "    <tr>\n",
       "      <th>1</th>\n",
       "      <td>2010</td>\n",
       "      <td>MANUAL</td>\n",
       "      <td>54990.0</td>\n",
       "      <td>54990</td>\n",
       "      <td>1</td>\n",
       "    </tr>\n",
       "    <tr>\n",
       "      <th>2</th>\n",
       "      <td>2017</td>\n",
       "      <td>AUTOMATIC</td>\n",
       "      <td>30800.0</td>\n",
       "      <td>34450</td>\n",
       "      <td>2</td>\n",
       "    </tr>\n",
       "    <tr>\n",
       "      <th>3</th>\n",
       "      <td>2017</td>\n",
       "      <td>MANUAL</td>\n",
       "      <td>32340.0</td>\n",
       "      <td>32340</td>\n",
       "      <td>1</td>\n",
       "    </tr>\n",
       "  </tbody>\n",
       "</table>\n",
       "</div>"
      ],
      "text/plain": [
       "   Year Transmission Type     MSRP        Vehicle_Style\n",
       "                              mean    max         count\n",
       "0  1991            MANUAL   2000.0   2000             1\n",
       "1  2010            MANUAL  54990.0  54990             1\n",
       "2  2017         AUTOMATIC  30800.0  34450             2\n",
       "3  2017            MANUAL  32340.0  32340             1"
      ]
     },
     "execution_count": 19,
     "metadata": {},
     "output_type": "execute_result"
    }
   ],
   "source": [
    "# To find mean value group-wise\n",
    "print(df.groupby(by=['Transmission Type']).MSRP.mean())\n",
    "# To find values aggregated using different functions on different columns grouped by a single column\n",
    "print(df.groupby(by=['Transmission Type']).agg({'MSRP':['mean','max'],'Vehicle_Style':'count'}))\n",
    "# To find values aggregated using different functions on different columns grouped by multiple columns\n",
    "print(df.groupby(by=['Year','Transmission Type']).agg({'MSRP':['mean','max'],'Vehicle_Style':'count'}))"
   ]
  },
  {
   "cell_type": "markdown",
   "metadata": {},
   "source": [
    "Getting Data from Dataframes in Numpy Arrays or Dictionaries"
   ]
  },
  {
   "cell_type": "code",
   "execution_count": 23,
   "metadata": {},
   "outputs": [
    {
     "name": "stdout",
     "output_type": "stream",
     "text": [
      "['Nissan' 'Hyundai' 'Lotus' 'GMC' 'Nissan']\n",
      "[['Nissan' 'Stanza' 1991 138.0 4 'MANUAL' 'sedan' 2000]\n",
      " ['Hyundai' 'Sonata' 2017 nan 4 'AUTOMATIC' 'Sedan' 27150]\n",
      " ['Lotus' 'Elise' 2010 218.0 4 'MANUAL' 'convertible' 54990]\n",
      " ['GMC' 'Acadia' 2017 194.0 4 'AUTOMATIC' '4dr SUV' 34450]\n",
      " ['Nissan' 'Frontier' 2017 261.0 6 'MANUAL' 'Pickup' 32340]]\n",
      "[{'Make': 'Nissan', 'Model': 'Stanza', 'Year': 1991, 'Engine HP': 138.0, 'Engine Cylinders': 4, 'Transmission Type': 'MANUAL', 'Vehicle_Style': 'sedan', 'MSRP': 2000}, {'Make': 'Hyundai', 'Model': 'Sonata', 'Year': 2017, 'Engine HP': nan, 'Engine Cylinders': 4, 'Transmission Type': 'AUTOMATIC', 'Vehicle_Style': 'Sedan', 'MSRP': 27150}, {'Make': 'Lotus', 'Model': 'Elise', 'Year': 2010, 'Engine HP': 218.0, 'Engine Cylinders': 4, 'Transmission Type': 'MANUAL', 'Vehicle_Style': 'convertible', 'MSRP': 54990}, {'Make': 'GMC', 'Model': 'Acadia', 'Year': 2017, 'Engine HP': 194.0, 'Engine Cylinders': 4, 'Transmission Type': 'AUTOMATIC', 'Vehicle_Style': '4dr SUV', 'MSRP': 34450}, {'Make': 'Nissan', 'Model': 'Frontier', 'Year': 2017, 'Engine HP': 261.0, 'Engine Cylinders': 6, 'Transmission Type': 'MANUAL', 'Vehicle_Style': 'Pickup', 'MSRP': 32340}]\n",
      "{'Make': ['Nissan', 'Hyundai', 'Lotus', 'GMC', 'Nissan'], 'Model': ['Stanza', 'Sonata', 'Elise', 'Acadia', 'Frontier'], 'Year': [1991, 2017, 2010, 2017, 2017], 'Engine HP': [138.0, nan, 218.0, 194.0, 261.0], 'Engine Cylinders': [4, 4, 4, 4, 6], 'Transmission Type': ['MANUAL', 'AUTOMATIC', 'MANUAL', 'AUTOMATIC', 'MANUAL'], 'Vehicle_Style': ['sedan', 'Sedan', 'convertible', '4dr SUV', 'Pickup'], 'MSRP': [2000, 27150, 54990, 34450, 32340]}\n"
     ]
    }
   ],
   "source": [
    "# Get numpy arrays\n",
    "print(df.Make.values)\n",
    "print(df.values)\n",
    "# Get the observations in the form of a list of dictionaries where each dictionary specifies one observation in the dataframe\n",
    "print(df.to_dict(orient='records'))\n",
    "# Get the observations in the form of a dictionary of lists where each key specifies the column name in the dataframe and each value is a list of values for that column\n",
    "print(df.to_dict(orient='list'))"
   ]
  }
 ],
 "metadata": {
  "kernelspec": {
   "display_name": "Python 3 (ipykernel)",
   "language": "python",
   "name": "python3"
  }
 },
 "nbformat": 4,
 "nbformat_minor": 2
}
