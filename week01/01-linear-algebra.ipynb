{
 "cells": [
  {
   "cell_type": "code",
   "execution_count": 1,
   "metadata": {},
   "outputs": [],
   "source": [
    "import numpy as np"
   ]
  },
  {
   "cell_type": "markdown",
   "metadata": {},
   "source": [
    "Element-wise Operations"
   ]
  },
  {
   "cell_type": "code",
   "execution_count": 2,
   "metadata": {},
   "outputs": [
    {
     "name": "stdout",
     "output_type": "stream",
     "text": [
      "[ 4  8 10 12]\n",
      "[3 4 5 8]\n"
     ]
    }
   ],
   "source": [
    "# Multiply a vector by a scalar\n",
    "u = np.array([2,4,5,6])\n",
    "print(2*u)\n",
    "\n",
    "# Add two vectors\n",
    "u = np.array([2,4,5,6])\n",
    "v = np.array([1,0,0,2])\n",
    "print(u+v)"
   ]
  },
  {
   "cell_type": "markdown",
   "metadata": {},
   "source": [
    "Vector - Vector Multiplication"
   ]
  },
  {
   "cell_type": "code",
   "execution_count": 3,
   "metadata": {},
   "outputs": [
    {
     "name": "stdout",
     "output_type": "stream",
     "text": [
      "14\n",
      "14\n"
     ]
    },
    {
     "data": {
      "text/plain": [
       "np.int64(14)"
      ]
     },
     "execution_count": 3,
     "metadata": {},
     "output_type": "execute_result"
    }
   ],
   "source": [
    "u = np.array([2,4,5,6])\n",
    "v = np.array([1,0,0,2])\n",
    "print(np.dot(u,v))\n",
    "print(sum(u*v))\n",
    "\n",
    "# Code from scratch - sum(u*v)\n",
    "def vector_vector_multiplication(u, v):\n",
    "    assert(u.shape == v.shape) # To ensure we have same shaped-vectors\n",
    "    result = 0\n",
    "    for i in range(u.shape[0]):\n",
    "        result += u[i] * v[i]\n",
    "    return result\n",
    "\n",
    "vector_vector_multiplication(u, v)"
   ]
  },
  {
   "cell_type": "markdown",
   "metadata": {},
   "source": [
    "Matrix - Vector Multiplication"
   ]
  },
  {
   "cell_type": "code",
   "execution_count": 4,
   "metadata": {},
   "outputs": [
    {
     "name": "stdout",
     "output_type": "stream",
     "text": [
      "[np.float64(20.0), np.float64(6.0), np.float64(8.5)]\n",
      "[np.float64(20.0), np.float64(6.0), np.float64(8.5)]\n",
      "[20.   6.   8.5]\n"
     ]
    },
    {
     "data": {
      "text/plain": [
       "array([20. ,  6. ,  8.5])"
      ]
     },
     "execution_count": 4,
     "metadata": {},
     "output_type": "execute_result"
    }
   ],
   "source": [
    "U = np.array([[2,4,5,6],[1,2,1,2],[3,1,2,1]])\n",
    "v = np.array([1,0.5,2,1])\n",
    "\n",
    "print([sum(i*v) for i in U])\n",
    "print([np.dot(i,v) for i in U])\n",
    "print(np.dot(U,v))\n",
    "\n",
    "def matrix_vector_multiplication(U, v):\n",
    "    assert(U.shape[1] == v.shape[0])\n",
    "\n",
    "    num_rows = U.shape[0]\n",
    "    result = np.empty(num_rows)\n",
    "    for i in range(num_rows):\n",
    "        result[i] = vector_vector_multiplication(U[i], v)\n",
    "    return result\n",
    "\n",
    "matrix_vector_multiplication(U, v)"
   ]
  },
  {
   "cell_type": "markdown",
   "metadata": {},
   "source": [
    "Matrix - Matrix Multiplication"
   ]
  },
  {
   "cell_type": "code",
   "execution_count": 15,
   "metadata": {},
   "outputs": [
    {
     "name": "stdout",
     "output_type": "stream",
     "text": [
      "[[14.  20.  13. ]\n",
      " [ 5.   6.   5. ]\n",
      " [ 5.   8.5  9. ]]\n"
     ]
    },
    {
     "data": {
      "text/plain": [
       "array([[14. , 20. , 13. ],\n",
       "       [ 5. ,  6. ,  5. ],\n",
       "       [ 5. ,  8.5,  9. ]])"
      ]
     },
     "execution_count": 15,
     "metadata": {},
     "output_type": "execute_result"
    }
   ],
   "source": [
    "U = np.array([[2,4,5,6],[1,2,1,2],[3,1,2,1]])\n",
    "V = np.array([[1,1,2],[0,0.5,1],[0,2,1],[2,1,0]])\n",
    "\n",
    "print(np.dot(U,V))\n",
    "\n",
    "def matrix_matrix_multiplication(U, V):\n",
    "    assert(U.shape[1] == V.shape[0])\n",
    "\n",
    "    n_rows = U.shape[0]\n",
    "    n_cols = V.shape[1]\n",
    "\n",
    "    result = np.empty((n_rows, n_cols))\n",
    "\n",
    "    for i in range(n_cols):\n",
    "        Uvi = matrix_vector_multiplication(U, V[:,i])\n",
    "        result[:,i] = Uvi\n",
    "    return result\n",
    "\n",
    "matrix_matrix_multiplication(U,V)"
   ]
  },
  {
   "cell_type": "markdown",
   "metadata": {},
   "source": [
    "Identity Matrix - U.I = U and I.U = U"
   ]
  },
  {
   "cell_type": "code",
   "execution_count": 22,
   "metadata": {},
   "outputs": [
    {
     "name": "stdout",
     "output_type": "stream",
     "text": [
      "[[1.  1.  2. ]\n",
      " [0.  0.5 1. ]\n",
      " [0.  2.  1. ]\n",
      " [2.  1.  0. ]]\n",
      "[[1.  1.  2. ]\n",
      " [0.  0.5 1. ]\n",
      " [0.  2.  1. ]\n",
      " [2.  1.  0. ]]\n",
      "[[1. 0. 0. 0.]\n",
      " [0. 1. 0. 0.]\n",
      " [0. 0. 1. 0.]]\n",
      "[[1.  1.  2.  0. ]\n",
      " [0.  0.5 1.  0. ]\n",
      " [0.  2.  1.  0. ]\n",
      " [2.  1.  0.  0. ]]\n"
     ]
    }
   ],
   "source": [
    "identity = np.eye(3)\n",
    "custom_identity = np.eye(V.shape[1], V.shape[0])\n",
    "\n",
    "print(V)\n",
    "print(np.dot(V,identity))\n",
    "print(custom_identity) # The last column of the custom identity is all zeros\n",
    "print(np.dot(V,custom_identity)) # The new matrix is no longer the same matrix as the original once - hence the dimensions of matrix and identity matrix need to be the same"
   ]
  },
  {
   "cell_type": "markdown",
   "metadata": {},
   "source": [
    "Inverse of a Matrix"
   ]
  },
  {
   "cell_type": "code",
   "execution_count": 30,
   "metadata": {},
   "outputs": [
    {
     "name": "stdout",
     "output_type": "stream",
     "text": [
      "[[ 1.00000000e+00  7.89516815e-17 -4.31337092e-17]\n",
      " [ 7.97829944e-17  1.00000000e+00  8.49287643e-17]\n",
      " [-2.71277407e-17 -7.18600203e-18  1.00000000e+00]]\n"
     ]
    }
   ],
   "source": [
    "# The matrix for which an inverse needs to be calculated should be a square matrix\n",
    "V = np.random.rand(3,3)\n",
    "V_inverse = np.linalg.inv(V)\n",
    "print(np.dot(V,V_inverse)) # An identity matrix - we can get extremely small values not equal to zero due to floating point precision errors"
   ]
  }
 ],
 "metadata": {
  "kernelspec": {
   "display_name": "Python 3 (ipykernel)",
   "language": "python",
   "name": "python3"
  },
  "language_info": {
   "codemirror_mode": {
    "name": "ipython",
    "version": 3
   },
   "file_extension": ".py",
   "mimetype": "text/x-python",
   "name": "python",
   "nbconvert_exporter": "python",
   "pygments_lexer": "ipython3",
   "version": "3.11.13"
  }
 },
 "nbformat": 4,
 "nbformat_minor": 4
}
