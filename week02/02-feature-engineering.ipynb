{
 "cells": [
  {
   "cell_type": "code",
   "execution_count": 1,
   "id": "a315d270",
   "metadata": {},
   "outputs": [],
   "source": [
    "import pandas as pd\n",
    "import numpy as np\n",
    "import os\n",
    "import matplotlib.pyplot as plt\n",
    "import seaborn as sns"
   ]
  },
  {
   "cell_type": "code",
   "execution_count": 2,
   "id": "19434fce",
   "metadata": {},
   "outputs": [],
   "source": [
    "# os.getcwd()"
   ]
  },
  {
   "cell_type": "code",
   "execution_count": 3,
   "id": "21154bed",
   "metadata": {},
   "outputs": [],
   "source": [
    "pd.set_option('display.max_columns', None)"
   ]
  },
  {
   "cell_type": "code",
   "execution_count": 4,
   "id": "beaf25d5",
   "metadata": {},
   "outputs": [
    {
     "name": "stdout",
     "output_type": "stream",
     "text": [
      "(11914, 16)\n"
     ]
    },
    {
     "data": {
      "text/html": [
       "<div>\n",
       "<style scoped>\n",
       "    .dataframe tbody tr th:only-of-type {\n",
       "        vertical-align: middle;\n",
       "    }\n",
       "\n",
       "    .dataframe tbody tr th {\n",
       "        vertical-align: top;\n",
       "    }\n",
       "\n",
       "    .dataframe thead th {\n",
       "        text-align: right;\n",
       "    }\n",
       "</style>\n",
       "<table border=\"1\" class=\"dataframe\">\n",
       "  <thead>\n",
       "    <tr style=\"text-align: right;\">\n",
       "      <th></th>\n",
       "      <th>make</th>\n",
       "      <th>model</th>\n",
       "      <th>year</th>\n",
       "      <th>engine_fuel_type</th>\n",
       "      <th>engine_hp</th>\n",
       "      <th>engine_cylinders</th>\n",
       "      <th>transmission_type</th>\n",
       "      <th>driven_wheels</th>\n",
       "      <th>number_of_doors</th>\n",
       "      <th>market_category</th>\n",
       "      <th>vehicle_size</th>\n",
       "      <th>vehicle_style</th>\n",
       "      <th>highway_mpg</th>\n",
       "      <th>city_mpg</th>\n",
       "      <th>popularity</th>\n",
       "      <th>msrp</th>\n",
       "    </tr>\n",
       "  </thead>\n",
       "  <tbody>\n",
       "    <tr>\n",
       "      <th>0</th>\n",
       "      <td>bmw</td>\n",
       "      <td>1_series_m</td>\n",
       "      <td>2011</td>\n",
       "      <td>premium_unleaded_(required)</td>\n",
       "      <td>335.0</td>\n",
       "      <td>6.0</td>\n",
       "      <td>manual</td>\n",
       "      <td>rear_wheel_drive</td>\n",
       "      <td>2.0</td>\n",
       "      <td>factory_tuner,luxury,high-performance</td>\n",
       "      <td>compact</td>\n",
       "      <td>coupe</td>\n",
       "      <td>26</td>\n",
       "      <td>19</td>\n",
       "      <td>3916</td>\n",
       "      <td>46135</td>\n",
       "    </tr>\n",
       "    <tr>\n",
       "      <th>1</th>\n",
       "      <td>bmw</td>\n",
       "      <td>1_series</td>\n",
       "      <td>2011</td>\n",
       "      <td>premium_unleaded_(required)</td>\n",
       "      <td>300.0</td>\n",
       "      <td>6.0</td>\n",
       "      <td>manual</td>\n",
       "      <td>rear_wheel_drive</td>\n",
       "      <td>2.0</td>\n",
       "      <td>luxury,performance</td>\n",
       "      <td>compact</td>\n",
       "      <td>convertible</td>\n",
       "      <td>28</td>\n",
       "      <td>19</td>\n",
       "      <td>3916</td>\n",
       "      <td>40650</td>\n",
       "    </tr>\n",
       "    <tr>\n",
       "      <th>2</th>\n",
       "      <td>bmw</td>\n",
       "      <td>1_series</td>\n",
       "      <td>2011</td>\n",
       "      <td>premium_unleaded_(required)</td>\n",
       "      <td>300.0</td>\n",
       "      <td>6.0</td>\n",
       "      <td>manual</td>\n",
       "      <td>rear_wheel_drive</td>\n",
       "      <td>2.0</td>\n",
       "      <td>luxury,high-performance</td>\n",
       "      <td>compact</td>\n",
       "      <td>coupe</td>\n",
       "      <td>28</td>\n",
       "      <td>20</td>\n",
       "      <td>3916</td>\n",
       "      <td>36350</td>\n",
       "    </tr>\n",
       "    <tr>\n",
       "      <th>3</th>\n",
       "      <td>bmw</td>\n",
       "      <td>1_series</td>\n",
       "      <td>2011</td>\n",
       "      <td>premium_unleaded_(required)</td>\n",
       "      <td>230.0</td>\n",
       "      <td>6.0</td>\n",
       "      <td>manual</td>\n",
       "      <td>rear_wheel_drive</td>\n",
       "      <td>2.0</td>\n",
       "      <td>luxury,performance</td>\n",
       "      <td>compact</td>\n",
       "      <td>coupe</td>\n",
       "      <td>28</td>\n",
       "      <td>18</td>\n",
       "      <td>3916</td>\n",
       "      <td>29450</td>\n",
       "    </tr>\n",
       "    <tr>\n",
       "      <th>4</th>\n",
       "      <td>bmw</td>\n",
       "      <td>1_series</td>\n",
       "      <td>2011</td>\n",
       "      <td>premium_unleaded_(required)</td>\n",
       "      <td>230.0</td>\n",
       "      <td>6.0</td>\n",
       "      <td>manual</td>\n",
       "      <td>rear_wheel_drive</td>\n",
       "      <td>2.0</td>\n",
       "      <td>luxury</td>\n",
       "      <td>compact</td>\n",
       "      <td>convertible</td>\n",
       "      <td>28</td>\n",
       "      <td>18</td>\n",
       "      <td>3916</td>\n",
       "      <td>34500</td>\n",
       "    </tr>\n",
       "  </tbody>\n",
       "</table>\n",
       "</div>"
      ],
      "text/plain": [
       "  make       model  year             engine_fuel_type  engine_hp  \\\n",
       "0  bmw  1_series_m  2011  premium_unleaded_(required)      335.0   \n",
       "1  bmw    1_series  2011  premium_unleaded_(required)      300.0   \n",
       "2  bmw    1_series  2011  premium_unleaded_(required)      300.0   \n",
       "3  bmw    1_series  2011  premium_unleaded_(required)      230.0   \n",
       "4  bmw    1_series  2011  premium_unleaded_(required)      230.0   \n",
       "\n",
       "   engine_cylinders transmission_type     driven_wheels  number_of_doors  \\\n",
       "0               6.0            manual  rear_wheel_drive              2.0   \n",
       "1               6.0            manual  rear_wheel_drive              2.0   \n",
       "2               6.0            manual  rear_wheel_drive              2.0   \n",
       "3               6.0            manual  rear_wheel_drive              2.0   \n",
       "4               6.0            manual  rear_wheel_drive              2.0   \n",
       "\n",
       "                         market_category vehicle_size vehicle_style  \\\n",
       "0  factory_tuner,luxury,high-performance      compact         coupe   \n",
       "1                     luxury,performance      compact   convertible   \n",
       "2                luxury,high-performance      compact         coupe   \n",
       "3                     luxury,performance      compact         coupe   \n",
       "4                                 luxury      compact   convertible   \n",
       "\n",
       "   highway_mpg  city_mpg  popularity   msrp  \n",
       "0           26        19        3916  46135  \n",
       "1           28        19        3916  40650  \n",
       "2           28        20        3916  36350  \n",
       "3           28        18        3916  29450  \n",
       "4           28        18        3916  34500  "
      ]
     },
     "metadata": {},
     "output_type": "display_data"
    }
   ],
   "source": [
    "# From 02-data-preparation.ipynb\n",
    "df = pd.read_csv(filepath_or_buffer=\"../data/cardataset/data.csv\", header=0, sep=\",\")\n",
    "\n",
    "df.columns = df.columns.str.lower().str.replace(pat=' ',repl='_')\n",
    "\n",
    "cols = df.dtypes[df.dtypes=='object'].index\n",
    "for col in cols:\n",
    "    df[col] = df[col].str.lower().str.replace(pat=' ',repl='_')\n",
    "\n",
    "print(df.shape)\n",
    "display(df.head())"
   ]
  },
  {
   "cell_type": "code",
   "execution_count": 5,
   "id": "7acd67e8",
   "metadata": {},
   "outputs": [
    {
     "name": "stdout",
     "output_type": "stream",
     "text": [
      "make\n",
      "['bmw' 'audi' 'fiat' 'mercedes-benz' 'chrysler']\n",
      "48\n",
      "\n",
      "model\n",
      "['1_series_m' '1_series' '100' '124_spider' '190-class']\n",
      "914\n",
      "\n",
      "year\n",
      "[2011 2012 2013 1992 1993]\n",
      "28\n",
      "\n",
      "engine_fuel_type\n",
      "['premium_unleaded_(required)' 'regular_unleaded'\n",
      " 'premium_unleaded_(recommended)' 'flex-fuel_(unleaded/e85)' 'diesel']\n",
      "10\n",
      "\n",
      "engine_hp\n",
      "[335. 300. 230. 320. 172.]\n",
      "356\n",
      "\n",
      "engine_cylinders\n",
      "[ 6.  4.  5.  8. 12.]\n",
      "9\n",
      "\n",
      "transmission_type\n",
      "['manual' 'automatic' 'automated_manual' 'direct_drive' 'unknown']\n",
      "5\n",
      "\n",
      "driven_wheels\n",
      "['rear_wheel_drive' 'front_wheel_drive' 'all_wheel_drive'\n",
      " 'four_wheel_drive']\n",
      "4\n",
      "\n",
      "number_of_doors\n",
      "[ 2.  4.  3. nan]\n",
      "3\n",
      "\n",
      "market_category\n",
      "['factory_tuner,luxury,high-performance' 'luxury,performance'\n",
      " 'luxury,high-performance' 'luxury' 'performance']\n",
      "71\n",
      "\n",
      "vehicle_size\n",
      "['compact' 'midsize' 'large']\n",
      "3\n",
      "\n",
      "vehicle_style\n",
      "['coupe' 'convertible' 'sedan' 'wagon' '4dr_hatchback']\n",
      "16\n",
      "\n",
      "highway_mpg\n",
      "[26 28 27 25 24]\n",
      "59\n",
      "\n",
      "city_mpg\n",
      "[19 20 18 17 16]\n",
      "69\n",
      "\n",
      "popularity\n",
      "[3916 3105  819  617 1013]\n",
      "48\n",
      "\n",
      "msrp\n",
      "[46135 40650 36350 29450 34500]\n",
      "6049\n",
      "\n"
     ]
    },
    {
     "data": {
      "text/plain": [
       "engine_fuel_type       3\n",
       "engine_hp             69\n",
       "engine_cylinders      30\n",
       "number_of_doors        6\n",
       "market_category     3742\n",
       "dtype: int64"
      ]
     },
     "metadata": {},
     "output_type": "display_data"
    },
    {
     "data": {
      "image/png": "[encoded data removed]",
      "text/plain": [
       "<Figure size 640x480 with 1 Axes>"
      ]
     },
     "metadata": {},
     "output_type": "display_data"
    }
   ],
   "source": [
    "# From 02-eda.ipynb\n",
    "for col in df.columns:\n",
    "    print(col)\n",
    "    print(df[col].unique()[:5])\n",
    "    print(df[col].nunique())\n",
    "    print()\n",
    "\n",
    "log_msrp = np.log1p(df['msrp'])\n",
    "\n",
    "sns.histplot(log_msrp, bins=50)\n",
    "\n",
    "missing_values = df.isnull().sum()\n",
    "display(missing_values[missing_values > 0])\n"
   ]
  },
  {
   "cell_type": "code",
   "execution_count": 6,
   "id": "5fe3763e",
   "metadata": {},
   "outputs": [
    {
     "name": "stdout",
     "output_type": "stream",
     "text": [
      "n_train: 7150, n_valid: 2382, n_test: 2382\n",
      "df_train: 7150, df_valid: 2382, df_test: 2382\n"
     ]
    }
   ],
   "source": [
    "# From 02-validation-framework.ipynb\n",
    "n = len(df)\n",
    "n_valid = int(n * 0.2)\n",
    "n_test = int(n * 0.2)\n",
    "n_train = n - n_valid - n_test\n",
    "print(f\"n_train: {n_train}, n_valid: {n_valid}, n_test: {n_test}\")\n",
    "\n",
    "np.random.seed(2)\n",
    "idx = np.arange(n)\n",
    "np.random.shuffle(idx)\n",
    "\n",
    "df_train = df.iloc[idx[:n_train]]\n",
    "df_valid = df.iloc[idx[n_train:n_train+n_valid]]\n",
    "df_test = df.iloc[idx[n_train+n_valid:]]\n",
    "print(f\"df_train: {len(df_train)}, df_valid: {len(df_valid)}, df_test: {len(df_test)}\")\n",
    "\n",
    "df_train = df_train.reset_index(drop=True)\n",
    "df_valid = df_valid.reset_index(drop=True)\n",
    "df_test = df_test.reset_index(drop=True)\n",
    "\n",
    "y_train = np.log1p(df_train['msrp'].values)\n",
    "y_valid = np.log1p(df_valid['msrp'].values)\n",
    "y_test = np.log1p(df_test['msrp'].values)\n",
    "\n",
    "del df_train['msrp']\n",
    "del df_valid['msrp']\n",
    "del df_test['msrp']"
   ]
  },
  {
   "cell_type": "code",
   "execution_count": 7,
   "id": "3b0f8055",
   "metadata": {},
   "outputs": [
    {
     "name": "stdout",
     "output_type": "stream",
     "text": [
      "g(xi): 12.312\n",
      "Predicted car price: 222347.2221101062\n"
     ]
    }
   ],
   "source": [
    "# From 02-linear-regression.ipynb\n",
    "w0 = 7.17\n",
    "wi = [0.01, 0.04, 0.002]\n",
    "\n",
    "def linear_regression(xi):\n",
    "    n = len(xi)\n",
    "    pred = w0\n",
    "    for j in range(n):\n",
    "        pred += wi[j]*xi[j]\n",
    "    return pred\n",
    "\n",
    "xi = [453, 11, 86]\n",
    "pred = linear_regression(xi) # this prediction is at a log scale; also, we have used log1p\n",
    "print(f\"g(xi): {pred}\")\n",
    "pred = np.expm1(pred)\n",
    "print(f\"Predicted car price: {pred}\")"
   ]
  },
  {
   "cell_type": "code",
   "execution_count": 8,
   "id": "a18de480",
   "metadata": {},
   "outputs": [
    {
     "name": "stdout",
     "output_type": "stream",
     "text": [
      "g(xi): 12.312000000000001\n"
     ]
    }
   ],
   "source": [
    "# From 02-linear-regression.ipynb\n",
    "w0 = 7.17\n",
    "wi = [0.01, 0.04, 0.002]\n",
    "\n",
    "\n",
    "def dot(wi, xi):\n",
    "    n = len(xi)\n",
    "    res = 0.0\n",
    "    for j in range(n):\n",
    "        res += wi[j]*xi[j]\n",
    "    return res\n",
    "\n",
    "def linear_regression(wi, xi):\n",
    "    return w0 + dot(wi, xi)\n",
    "\n",
    "xi = [453, 11, 86]\n",
    "print(f\"g(xi): {linear_regression(wi, xi)}\")\n"
   ]
  },
  {
   "cell_type": "code",
   "execution_count": 9,
   "id": "92174a24",
   "metadata": {},
   "outputs": [
    {
     "name": "stdout",
     "output_type": "stream",
     "text": [
      "New g(xi): 12.312\n"
     ]
    }
   ],
   "source": [
    "# From 02-linear-regression.ipynb\n",
    "def linear_regression(wi, xi):\n",
    "    return dot(wi, xi)\n",
    "\n",
    "xi_new = [1] + xi\n",
    "wi_new = [w0] + wi\n",
    "print(f\"New g(xi): {linear_regression(wi_new, xi_new)}\")"
   ]
  },
  {
   "cell_type": "code",
   "execution_count": 10,
   "id": "4f6305d7",
   "metadata": {},
   "outputs": [
    {
     "name": "stdout",
     "output_type": "stream",
     "text": [
      "g(X): [[12.38  13.552 12.312]]\n",
      "g(X): [12.38  13.552 12.312]\n"
     ]
    }
   ],
   "source": [
    "# From 02-linear-regression.ipynb\n",
    "def linear_regression_wx(X, w):\n",
    "    return w.T.dot(X)\n",
    "\n",
    "def linear_regression_xw(X, w):\n",
    "    return X.dot(w)\n",
    "\n",
    "w = np.array([7.17, 0.01, 0.04, 0.002])\n",
    "w = w.reshape((4,-1))\n",
    "X = np.array([[1, 1, 1],[148, 132, 453],[24, 25, 11],[1385, 2031, 86]])\n",
    "print(f\"g(X): {linear_regression_wx(X, w)}\")\n",
    "\n",
    "w = np.array([7.17, 0.01, 0.04, 0.002])\n",
    "X = np.array([[1, 148, 24, 1385],[1, 132, 25, 2031],[1, 453, 11, 86]])\n",
    "print(f\"g(X): {linear_regression_xw(X, w)}\")"
   ]
  },
  {
   "cell_type": "code",
   "execution_count": 11,
   "id": "b1cd7de5",
   "metadata": {},
   "outputs": [
    {
     "name": "stdout",
     "output_type": "stream",
     "text": [
      "Intercept: 30009.252922766653\n",
      "Weight for each of the features: [ -22.78396914 -257.69087426   -2.30322797]\n"
     ]
    }
   ],
   "source": [
    "# From 02-training-linear regression.ipynb\n",
    "def train_linear_regression(X, y):\n",
    "    # Add a bias term in the input matrix X\n",
    "    ones = np.ones(X.shape[0])\n",
    "    X = np.column_stack([ones, X])\n",
    "    \n",
    "    XTX = X.T.dot(X)\n",
    "    XTX_inv = np.linalg.inv(XTX)\n",
    "    # Check for identity\n",
    "    # print(XTX_inv.dot(XTX))\n",
    "    w = XTX_inv.dot(X.T).dot(y)\n",
    "    \n",
    "    return [w[0], w[1:]] \n",
    "\n",
    "# Increase the number of records in X so that m > n to solve the normal equation\n",
    "X = [\n",
    "    [148, 24, 1385],\n",
    "    [132, 25, 2031],\n",
    "    [453, 11, 86],\n",
    "    [158, 24, 185],\n",
    "    [172, 25, 201],\n",
    "    [413, 11, 83],\n",
    "    [38, 54, 185],\n",
    "    [142, 25, 431],\n",
    "    [453, 31, 86],\n",
    "]\n",
    "X = np.array(X)\n",
    "y = [10000, 20000, 15000, 25000, 10000, 20000, 15000, 25000, 12000]\n",
    "# Solve for the normal equation\n",
    "w = train_linear_regression(X, y)\n",
    "print(f\"Intercept: {w[0]}\\nWeight for each of the features: {w[1]}\")"
   ]
  },
  {
   "cell_type": "code",
   "execution_count": 12,
   "id": "7fdad9f3",
   "metadata": {},
   "outputs": [
    {
     "name": "stdout",
     "output_type": "stream",
     "text": [
      "Missing values: \n",
      "engine_hp           40\n",
      "engine_cylinders    14\n",
      "highway_mpg          0\n",
      "city_mpg             0\n",
      "popularity           0\n",
      "dtype: int64\n",
      "RMSE (train): 0.7554192603920132\n"
     ]
    },
    {
     "data": {
      "image/png": "[encoded data removed]",
      "text/plain": [
       "<Figure size 640x480 with 1 Axes>"
      ]
     },
     "metadata": {},
     "output_type": "display_data"
    }
   ],
   "source": [
    "# From 02-car-price-baseline-model.ipynb\n",
    "def rmse(y, y_pred):\n",
    "    error = y - y_pred\n",
    "    se = error ** 2\n",
    "    mse = se.mean()\n",
    "    rmse = np.sqrt(mse)\n",
    "    return rmse\n",
    "\n",
    "baseline_cols = ['engine_hp', 'engine_cylinders', 'highway_mpg', 'city_mpg', 'popularity']\n",
    "print(f\"Missing values: \\n{df_train[baseline_cols].isnull().sum()}\")\n",
    "\n",
    "X_train = df_train[baseline_cols].fillna(0).values\n",
    "\n",
    "w0, w = train_linear_regression(X_train, y_train)\n",
    "y_pred = w0 + X_train.dot(w)\n",
    "\n",
    "sns.histplot(y_train, bins=50, color=\"blue\", alpha=0.5)\n",
    "sns.histplot(y_pred, bins=50, color=\"red\", alpha=0.5)\n",
    "\n",
    "print(f\"RMSE (train): {rmse(y=y_train, y_pred=y_pred)}\")\n"
   ]
  },
  {
   "cell_type": "code",
   "execution_count": 13,
   "id": "6b2dc466",
   "metadata": {},
   "outputs": [
    {
     "name": "stdout",
     "output_type": "stream",
     "text": [
      "RMSE (train): 0.7554192603920132\n",
      "RMSE (valid): 0.7616530991301591\n"
     ]
    }
   ],
   "source": [
    "# From 02-evaluation-rmse.ipynb\n",
    "def prepare_x(df, columns):\n",
    "    df = df[columns]\n",
    "    df = df.fillna(0).values\n",
    "    return df\n",
    "\n",
    "X_train = prepare_x(df_train, baseline_cols)\n",
    "w0, w = train_linear_regression(X=X_train, y=y_train)\n",
    "X_valid = prepare_x(df_valid, baseline_cols)\n",
    "y_train_pred = w0 + X_train.dot(w)\n",
    "y_valid_pred = w0 + X_valid.dot(w)\n",
    "print(f\"RMSE (train): {rmse(y=y_train, y_pred=y_train_pred)}\")\n",
    "print(f\"RMSE (valid): {rmse(y=y_valid, y_pred=y_valid_pred)}\")\n"
   ]
  },
  {
   "cell_type": "code",
   "execution_count": null,
   "id": "469dc36a",
   "metadata": {},
   "outputs": [
    {
     "name": "stdout",
     "output_type": "stream",
     "text": [
      "RMSE after feature engineering (train): 0.5175055465840046\n",
      "RMSE after feature engineering (valid): 0.5172055461058329\n"
     ]
    },
    {
     "data": {
      "text/plain": [
       "<Axes: ylabel='Count'>"
      ]
     },
     "execution_count": 16,
     "metadata": {},
     "output_type": "execute_result"
    },
    {
     "data": {
      "image/png": "[encoded data removed]",
      "text/plain": [
       "<Figure size 640x480 with 1 Axes>"
      ]
     },
     "metadata": {},
     "output_type": "display_data"
    }
   ],
   "source": [
    "# Add \"age\" of the car as a new feature calculated from the model year\n",
    "def prepare_x_feature(df, columns):\n",
    "    df = df.copy() # to avoid making modifications to the original dataset\n",
    "    \n",
    "    df['age'] = df.year.max() - df.year # calculate the age of the car assuming the max year is when the data was collected\n",
    "    \n",
    "    features = columns + ['age']\n",
    "    df = df[features]\n",
    "    df = df.fillna(0).values\n",
    "    return df\n",
    "\n",
    "X_train = prepare_x_feature(df_train, baseline_cols)\n",
    "w0, w = train_linear_regression(X=X_train, y=y_train)\n",
    "X_valid = prepare_x_feature(df_valid, baseline_cols)\n",
    "\n",
    "y_train_pred = w0 + X_train.dot(w)\n",
    "y_valid_pred= w0 + X_valid.dot(w)\n",
    "\n",
    "print(f\"RMSE after feature engineering (train): {rmse(y=y_train, y_pred=y_train_pred)}\")\n",
    "print(f\"RMSE after feature engineering (valid): {rmse(y=y_valid, y_pred=y_valid_pred)}\")\n",
    "\n",
    "sns.histplot(y_train, bins=50, color=\"blue\", alpha=0.5)\n",
    "sns.histplot(y_train_pred, bins=50, color=\"red\", alpha=0.5)\n"
   ]
  }
 ],
 "metadata": {
  "kernelspec": {
   "display_name": "ml-zoomcamp",
   "language": "python",
   "name": "python3"
  },
  "language_info": {
   "codemirror_mode": {
    "name": "ipython",
    "version": 3
   },
   "file_extension": ".py",
   "mimetype": "text/x-python",
   "name": "python",
   "nbconvert_exporter": "python",
   "pygments_lexer": "ipython3",
   "version": "3.11.13"
  }
 },
 "nbformat": 4,
 "nbformat_minor": 5
}
