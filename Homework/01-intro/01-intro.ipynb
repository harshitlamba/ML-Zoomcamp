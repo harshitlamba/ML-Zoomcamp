{
 "cells": [
  {
   "cell_type": "code",
   "execution_count": 33,
   "metadata": {},
   "outputs": [],
   "source": [
    "import pandas as pd\n",
    "import numpy as np"
   ]
  },
  {
   "cell_type": "code",
   "execution_count": 34,
   "metadata": {},
   "outputs": [
    {
     "name": "stdout",
     "output_type": "stream",
     "text": [
      "2.2.3\n"
     ]
    }
   ],
   "source": [
    "# Q1.1\n",
    "print(pd.__version__)\n",
    "\n",
    "# Q1.2\n",
    "# !wget https://raw.githubusercontent.com/alexeygrigorev/datasets/master/laptops.csv -O /workspaces/ML-Zoomcamp/Homework/01-intro/laptops.csv\n",
    "\n",
    "# Q1.3 \n",
    "laptops = pd.read_csv('laptops.csv')"
   ]
  },
  {
   "cell_type": "code",
   "execution_count": 35,
   "metadata": {},
   "outputs": [
    {
     "name": "stdout",
     "output_type": "stream",
     "text": [
      "Number of records: 2160\n"
     ]
    }
   ],
   "source": [
    "# Q2\n",
    "print(f'Number of records: {laptops.shape[0]}')"
   ]
  },
  {
   "cell_type": "code",
   "execution_count": 36,
   "metadata": {},
   "outputs": [
    {
     "name": "stdout",
     "output_type": "stream",
     "text": [
      "Number of laptop brands: 27\n"
     ]
    }
   ],
   "source": [
    "# Q3\n",
    "print(f'Number of laptop brands: {laptops.Brand.nunique()}')"
   ]
  },
  {
   "cell_type": "code",
   "execution_count": 43,
   "metadata": {},
   "outputs": [
    {
     "name": "stdout",
     "output_type": "stream",
     "text": [
      "Number of columns with missing values: 3\n"
     ]
    }
   ],
   "source": [
    "# Q4\n",
    "print(f'Number of columns with missing values: {len(np.where(laptops.isnull().sum()!=0)[0])}')"
   ]
  },
  {
   "cell_type": "code",
   "execution_count": 44,
   "metadata": {},
   "outputs": [
    {
     "name": "stdout",
     "output_type": "stream",
     "text": [
      "Max final price of Dell notebooks: 3936.0\n"
     ]
    }
   ],
   "source": [
    "# Q5\n",
    "print(f'Max final price of Dell notebooks: {laptops.loc[laptops['Brand']=='Dell','Final Price'].max()}')"
   ]
  },
  {
   "cell_type": "code",
   "execution_count": 45,
   "metadata": {},
   "outputs": [
    {
     "name": "stdout",
     "output_type": "stream",
     "text": [
      "Median value of screen column: 15.6\n",
      "Most frequent value of screen column: 15.6\n",
      "Median value of screen column after imputation: 15.6\n",
      "Changed?: No\n"
     ]
    }
   ],
   "source": [
    "# Q6.1\n",
    "old_median = laptops.Screen.median()\n",
    "print(f'Median value of screen column: {old_median}')\n",
    "\n",
    "# Q6.2\n",
    "most_freq = laptops.Screen.mode()\n",
    "print(f'Most frequent value of screen column: {most_freq.values[0]}')\n",
    "\n",
    "# Q6.3\n",
    "laptops['Screen'] = laptops.Screen.fillna(value=most_freq)\n",
    "\n",
    "# Q6.4\n",
    "new_median = laptops.Screen.median()\n",
    "print(f'Median value of screen column after imputation: {new_median}')\n",
    "print(f'Changed?: {'No' if old_median==new_median else 'Yes'}')"
   ]
  },
  {
   "cell_type": "code",
   "execution_count": 48,
   "metadata": {},
   "outputs": [
    {
     "name": "stdout",
     "output_type": "stream",
     "text": [
      "Sum of all the element of w: 91.3\n"
     ]
    }
   ],
   "source": [
    "# Q7.1, 7.2, 7.3\n",
    "X = laptops.loc[laptops.Brand=='Innjoo',['RAM','Storage','Screen']].values\n",
    "\n",
    "# Q7.4\n",
    "XTX = np.dot(X.T,X)\n",
    "\n",
    "# Q7.5\n",
    "inverse_XTX = np.linalg.inv(XTX)\n",
    "\n",
    "# Q7.6\n",
    "y = np.array([1100, 1300, 800, 900, 1000, 1100])\n",
    "\n",
    "# Q7.7, 7.8\n",
    "w = np.dot(np.dot(np.linalg.inv(XTX),X.T),y)\n",
    "print(f'Sum of all the element of w: {round(sum(w),2)}')"
   ]
  }
 ],
 "metadata": {
  "kernelspec": {
   "display_name": "Python 3 (ipykernel)",
   "language": "python",
   "name": "python3"
  },
  "language_info": {
   "codemirror_mode": {
    "name": "ipython",
    "version": 3
   },
   "file_extension": ".py",
   "mimetype": "text/x-python",
   "name": "python",
   "nbconvert_exporter": "python",
   "pygments_lexer": "ipython3",
   "version": "3.12.1"
  }
 },
 "nbformat": 4,
 "nbformat_minor": 2
}
