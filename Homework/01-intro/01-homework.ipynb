{
 "cells": [
  {
   "cell_type": "code",
   "execution_count": 1,
   "id": "5304c6ab",
   "metadata": {},
   "outputs": [],
   "source": [
    "import pandas as pd\n",
    "import numpy as np\n",
    "import os"
   ]
  },
  {
   "cell_type": "code",
   "execution_count": 2,
   "id": "632a7756",
   "metadata": {},
   "outputs": [],
   "source": [
    "# os.getcwd()"
   ]
  },
  {
   "cell_type": "code",
   "execution_count": 3,
   "id": "28d8851f",
   "metadata": {},
   "outputs": [],
   "source": [
    "pd.set_option('display.max_columns', None)"
   ]
  },
  {
   "cell_type": "markdown",
   "id": "9f40f3f7",
   "metadata": {},
   "source": [
    "#### Q1. Pandas version"
   ]
  },
  {
   "cell_type": "code",
   "execution_count": 4,
   "id": "8008e846",
   "metadata": {},
   "outputs": [
    {
     "name": "stdout",
     "output_type": "stream",
     "text": [
      "Pandas version: 2.3.2\n"
     ]
    }
   ],
   "source": [
    "# 1.1\n",
    "print(f\"Pandas version: {pd.__version__}\")"
   ]
  },
  {
   "cell_type": "code",
   "execution_count": 5,
   "id": "46a685b0",
   "metadata": {},
   "outputs": [],
   "source": [
    "# 1.2\n",
    "# !wget -O car_fuel_efficiency.csv https://raw.githubusercontent.com/alexeygrigorev/datasets/master/car_fuel_efficiency.csv"
   ]
  },
  {
   "cell_type": "code",
   "execution_count": 32,
   "id": "86867e34",
   "metadata": {},
   "outputs": [
    {
     "name": "stdout",
     "output_type": "stream",
     "text": [
      "Columns: Index(['engine_displacement', 'num_cylinders', 'horsepower', 'vehicle_weight',\n",
      "       'acceleration', 'model_year', 'origin', 'fuel_type', 'drivetrain',\n",
      "       'num_doors', 'fuel_efficiency_mpg'],\n",
      "      dtype='object')\n",
      "********************\n"
     ]
    },
    {
     "data": {
      "text/html": [
       "<div>\n",
       "<style scoped>\n",
       "    .dataframe tbody tr th:only-of-type {\n",
       "        vertical-align: middle;\n",
       "    }\n",
       "\n",
       "    .dataframe tbody tr th {\n",
       "        vertical-align: top;\n",
       "    }\n",
       "\n",
       "    .dataframe thead th {\n",
       "        text-align: right;\n",
       "    }\n",
       "</style>\n",
       "<table border=\"1\" class=\"dataframe\">\n",
       "  <thead>\n",
       "    <tr style=\"text-align: right;\">\n",
       "      <th></th>\n",
       "      <th>engine_displacement</th>\n",
       "      <th>num_cylinders</th>\n",
       "      <th>horsepower</th>\n",
       "      <th>vehicle_weight</th>\n",
       "      <th>acceleration</th>\n",
       "      <th>model_year</th>\n",
       "      <th>origin</th>\n",
       "      <th>fuel_type</th>\n",
       "      <th>drivetrain</th>\n",
       "      <th>num_doors</th>\n",
       "      <th>fuel_efficiency_mpg</th>\n",
       "    </tr>\n",
       "  </thead>\n",
       "  <tbody>\n",
       "    <tr>\n",
       "      <th>0</th>\n",
       "      <td>170</td>\n",
       "      <td>3.0</td>\n",
       "      <td>159.0</td>\n",
       "      <td>3413.433759</td>\n",
       "      <td>17.7</td>\n",
       "      <td>2003</td>\n",
       "      <td>Europe</td>\n",
       "      <td>Gasoline</td>\n",
       "      <td>All-wheel drive</td>\n",
       "      <td>0.0</td>\n",
       "      <td>13.231729</td>\n",
       "    </tr>\n",
       "    <tr>\n",
       "      <th>1</th>\n",
       "      <td>130</td>\n",
       "      <td>5.0</td>\n",
       "      <td>97.0</td>\n",
       "      <td>3149.664934</td>\n",
       "      <td>17.8</td>\n",
       "      <td>2007</td>\n",
       "      <td>USA</td>\n",
       "      <td>Gasoline</td>\n",
       "      <td>Front-wheel drive</td>\n",
       "      <td>0.0</td>\n",
       "      <td>13.688217</td>\n",
       "    </tr>\n",
       "    <tr>\n",
       "      <th>2</th>\n",
       "      <td>170</td>\n",
       "      <td>NaN</td>\n",
       "      <td>78.0</td>\n",
       "      <td>3079.038997</td>\n",
       "      <td>15.1</td>\n",
       "      <td>2018</td>\n",
       "      <td>Europe</td>\n",
       "      <td>Gasoline</td>\n",
       "      <td>Front-wheel drive</td>\n",
       "      <td>0.0</td>\n",
       "      <td>14.246341</td>\n",
       "    </tr>\n",
       "    <tr>\n",
       "      <th>3</th>\n",
       "      <td>220</td>\n",
       "      <td>4.0</td>\n",
       "      <td>NaN</td>\n",
       "      <td>2542.392402</td>\n",
       "      <td>20.2</td>\n",
       "      <td>2009</td>\n",
       "      <td>USA</td>\n",
       "      <td>Diesel</td>\n",
       "      <td>All-wheel drive</td>\n",
       "      <td>2.0</td>\n",
       "      <td>16.912736</td>\n",
       "    </tr>\n",
       "    <tr>\n",
       "      <th>4</th>\n",
       "      <td>210</td>\n",
       "      <td>1.0</td>\n",
       "      <td>140.0</td>\n",
       "      <td>3460.870990</td>\n",
       "      <td>14.4</td>\n",
       "      <td>2009</td>\n",
       "      <td>Europe</td>\n",
       "      <td>Gasoline</td>\n",
       "      <td>All-wheel drive</td>\n",
       "      <td>2.0</td>\n",
       "      <td>12.488369</td>\n",
       "    </tr>\n",
       "  </tbody>\n",
       "</table>\n",
       "</div>"
      ],
      "text/plain": [
       "   engine_displacement  num_cylinders  horsepower  vehicle_weight  \\\n",
       "0                  170            3.0       159.0     3413.433759   \n",
       "1                  130            5.0        97.0     3149.664934   \n",
       "2                  170            NaN        78.0     3079.038997   \n",
       "3                  220            4.0         NaN     2542.392402   \n",
       "4                  210            1.0       140.0     3460.870990   \n",
       "\n",
       "   acceleration  model_year  origin fuel_type         drivetrain  num_doors  \\\n",
       "0          17.7        2003  Europe  Gasoline    All-wheel drive        0.0   \n",
       "1          17.8        2007     USA  Gasoline  Front-wheel drive        0.0   \n",
       "2          15.1        2018  Europe  Gasoline  Front-wheel drive        0.0   \n",
       "3          20.2        2009     USA    Diesel    All-wheel drive        2.0   \n",
       "4          14.4        2009  Europe  Gasoline    All-wheel drive        2.0   \n",
       "\n",
       "   fuel_efficiency_mpg  \n",
       "0            13.231729  \n",
       "1            13.688217  \n",
       "2            14.246341  \n",
       "3            16.912736  \n",
       "4            12.488369  "
      ]
     },
     "metadata": {},
     "output_type": "display_data"
    }
   ],
   "source": [
    "# 1.3\n",
    "df = pd.read_csv(\"car_fuel_efficiency.csv\", header=0, sep=\",\")\n",
    "print(f\"Columns: {df.columns}\")\n",
    "print(\"*\"*20)\n",
    "display(df.head())"
   ]
  },
  {
   "cell_type": "markdown",
   "id": "e1178369",
   "metadata": {},
   "source": [
    "#### Q2. Records count"
   ]
  },
  {
   "cell_type": "code",
   "execution_count": 33,
   "id": "50a2b182",
   "metadata": {},
   "outputs": [
    {
     "name": "stdout",
     "output_type": "stream",
     "text": [
      "No. of records: 9704\n"
     ]
    }
   ],
   "source": [
    "print(f\"No. of records: {df.shape[0]}\")"
   ]
  },
  {
   "cell_type": "markdown",
   "id": "7c440fa4",
   "metadata": {},
   "source": [
    "#### Q3. Fuel types"
   ]
  },
  {
   "cell_type": "code",
   "execution_count": 34,
   "id": "d3634f12",
   "metadata": {},
   "outputs": [
    {
     "name": "stdout",
     "output_type": "stream",
     "text": [
      "No. of fuel types: 2\n"
     ]
    }
   ],
   "source": [
    "print(f\"No. of fuel types: {df['fuel_type'].nunique()}\")"
   ]
  },
  {
   "cell_type": "markdown",
   "id": "d47e8518",
   "metadata": {},
   "source": [
    "#### Q4. Missing values"
   ]
  },
  {
   "cell_type": "code",
   "execution_count": 35,
   "id": "1a5ed4c5",
   "metadata": {},
   "outputs": [
    {
     "name": "stdout",
     "output_type": "stream",
     "text": [
      "No. of missing values: 4\n"
     ]
    }
   ],
   "source": [
    "missing_values = df.isnull().sum()\n",
    "print(f\"No. of missing values: {len(missing_values[missing_values!=0])}\")"
   ]
  },
  {
   "cell_type": "markdown",
   "id": "7b00b43c",
   "metadata": {},
   "source": [
    "#### Q5. Max fuel efficiency"
   ]
  },
  {
   "cell_type": "code",
   "execution_count": 36,
   "id": "43c7bdb6",
   "metadata": {},
   "outputs": [
    {
     "name": "stdout",
     "output_type": "stream",
     "text": [
      "Max. fuel efficiency of cars from Asia: 23.76\n"
     ]
    }
   ],
   "source": [
    "cars_Asia = df[df['origin']=='Asia']\n",
    "print(f\"Max. fuel efficiency of cars from Asia: {cars_Asia['fuel_efficiency_mpg'].values.max().round(2)}\")"
   ]
  },
  {
   "cell_type": "markdown",
   "id": "28bdf605",
   "metadata": {},
   "source": [
    "#### Q6. Median value of horsepower"
   ]
  },
  {
   "cell_type": "code",
   "execution_count": 37,
   "id": "ee701e35",
   "metadata": {},
   "outputs": [
    {
     "name": "stdout",
     "output_type": "stream",
     "text": [
      "Median value before imputation: 149.0\n"
     ]
    }
   ],
   "source": [
    "# 6.1\n",
    "print(f\"Median value before imputation: {df['horsepower'].median()}\")"
   ]
  },
  {
   "cell_type": "code",
   "execution_count": 38,
   "id": "3eeef0f9",
   "metadata": {},
   "outputs": [],
   "source": [
    "# 6.2\n",
    "most_freq_hp = df['horsepower'].value_counts().max()"
   ]
  },
  {
   "cell_type": "code",
   "execution_count": 39,
   "id": "11a3deae",
   "metadata": {},
   "outputs": [],
   "source": [
    "# 6.3\n",
    "df['horsepower'] = df['horsepower'].fillna(most_freq_hp)"
   ]
  },
  {
   "cell_type": "code",
   "execution_count": 40,
   "id": "2f2d90af",
   "metadata": {},
   "outputs": [
    {
     "name": "stdout",
     "output_type": "stream",
     "text": [
      "Median value after imputation: 146.0\n"
     ]
    }
   ],
   "source": [
    "# 6.4\n",
    "print(f\"Median value after imputation: {df['horsepower'].median()}\")"
   ]
  },
  {
   "cell_type": "markdown",
   "id": "c2ac1e6a",
   "metadata": {},
   "source": [
    "#### Q7. Sum of weights"
   ]
  },
  {
   "cell_type": "code",
   "execution_count": 41,
   "id": "637e0bbc",
   "metadata": {},
   "outputs": [],
   "source": [
    "# 7.1\n",
    "cars_Asia = df[df['origin']=='Asia']"
   ]
  },
  {
   "cell_type": "code",
   "execution_count": 42,
   "id": "c1ca878e",
   "metadata": {},
   "outputs": [],
   "source": [
    "# 7.2\n",
    "df_subset = df[['vehicle_weight', 'model_year']]"
   ]
  },
  {
   "cell_type": "code",
   "execution_count": 43,
   "id": "911ab8fc",
   "metadata": {},
   "outputs": [],
   "source": [
    "# 7.3\n",
    "df_subset_7 = df_subset.head(7)"
   ]
  },
  {
   "cell_type": "code",
   "execution_count": 70,
   "id": "3948b19e",
   "metadata": {},
   "outputs": [],
   "source": [
    "# 7.4\n",
    "X = df_subset_7.values"
   ]
  },
  {
   "cell_type": "code",
   "execution_count": 84,
   "id": "f3160a27",
   "metadata": {},
   "outputs": [],
   "source": [
    "# 7.5\n",
    "XTX = X.T.dot(X)"
   ]
  },
  {
   "cell_type": "code",
   "execution_count": 85,
   "id": "ea07c2c9",
   "metadata": {},
   "outputs": [],
   "source": [
    "# 7.6\n",
    "XTX_inverse = np.linalg.inv(XTX)"
   ]
  },
  {
   "cell_type": "code",
   "execution_count": 86,
   "id": "e8262de9",
   "metadata": {},
   "outputs": [],
   "source": [
    "# 7.7\n",
    "y = np.array([1100, 1300, 800, 900, 1000, 1100, 1200])"
   ]
  },
  {
   "cell_type": "code",
   "execution_count": 91,
   "id": "976053a9",
   "metadata": {},
   "outputs": [],
   "source": [
    "# 7.8\n",
    "w = np.dot(XTX_inverse.dot(X.T), y) "
   ]
  },
  {
   "cell_type": "code",
   "execution_count": 93,
   "id": "c04a8fbe",
   "metadata": {},
   "outputs": [
    {
     "name": "stdout",
     "output_type": "stream",
     "text": [
      "Sum of elements of w: 0.49\n"
     ]
    }
   ],
   "source": [
    "# 7.9\n",
    "print(f\"Sum of elements of w: {w.sum().round(2)}\")"
   ]
  }
 ],
 "metadata": {
  "kernelspec": {
   "display_name": "ml-zoomcamp",
   "language": "python",
   "name": "python3"
  },
  "language_info": {
   "codemirror_mode": {
    "name": "ipython",
    "version": 3
   },
   "file_extension": ".py",
   "mimetype": "text/x-python",
   "name": "python",
   "nbconvert_exporter": "python",
   "pygments_lexer": "ipython3",
   "version": "3.11.13"
  }
 },
 "nbformat": 4,
 "nbformat_minor": 5
}
